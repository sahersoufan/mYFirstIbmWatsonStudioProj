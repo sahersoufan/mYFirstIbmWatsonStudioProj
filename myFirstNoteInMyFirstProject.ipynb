{
    "cells": [
        {
            "metadata": {},
            "cell_type": "markdown",
            "source": "# My Jupyter Notebook on IBM Watson Studio "
        },
        {
            "metadata": {},
            "cell_type": "markdown",
            "source": "__HASAN SOUFAN__\n\n__Data Scientist__"
        },
        {
            "metadata": {},
            "cell_type": "markdown",
            "source": "_i want to be a data science, i don't know exactly why, all i knwo that in my life i do what the data scientist do and i have the curiosity, the argumentative and the judgmental features._"
        },
        {
            "metadata": {},
            "cell_type": "markdown",
            "source": "### my code sppose to print the result of 1 + 1."
        },
        {
            "metadata": {
                "scrolled": true
            },
            "cell_type": "code",
            "source": "print(1 + 1)",
            "execution_count": 2,
            "outputs": [
                {
                    "output_type": "stream",
                    "text": "2\n",
                    "name": "stdout"
                }
            ]
        },
        {
            "metadata": {},
            "cell_type": "markdown",
            "source": "1. Here's **_gandalf_** to cheer you up:)\n* ![alt text](https://www.cnet.com/a/img/resize/0165e20206047e2ebe322821b4fea5fdff7f3061/hub/2014/12/01/89601d70-ca65-4dc7-adfe-f6dbd46d05ba/hobbit-lotr-5-armies-gandalf-hat.jpg?auto=webp&fit=crop&height=675&width=1200 \"Gandalf\")\n\n2. [My Linkedin](https://www.linkedin.com/in/hasan-soufan-313b67187)"
        }
    ],
    "metadata": {
        "kernelspec": {
            "name": "python3",
            "display_name": "Python 3.9",
            "language": "python"
        },
        "language_info": {
            "name": "python",
            "version": "3.9.13",
            "mimetype": "text/x-python",
            "codemirror_mode": {
                "name": "ipython",
                "version": 3
            },
            "pygments_lexer": "ipython3",
            "nbconvert_exporter": "python",
            "file_extension": ".py"
        }
    },
    "nbformat": 4,
    "nbformat_minor": 1
}