{
    "cells": [
        {
            "metadata": {},
            "cell_type": "markdown",
            "source": "# My Jupyter Notebook on IBM Watson Studio "
        },
        {
            "metadata": {},
            "cell_type": "markdown",
            "source": "__HASAN SOUFAN__\n\n__Data Scientist__"
        },
        {
            "metadata": {},
            "cell_type": "markdown",
            "source": "_i want to be a data science, i don't know exactly why, all i knwo that in my life i do what the data scientist do and i have the curiosity, the argumentative and the judgmental features._"
        },
        {
            "metadata": {},
            "cell_type": "markdown",
            "source": "### my code sppose to print the result of 1 + 1."
        },
        {
            "metadata": {
                "scrolled": true
            },
            "cell_type": "code",
            "source": "print(1 + 1)",
            "execution_count": 2,
            "outputs": [
                {
                    "output_type": "stream",
                    "text": "2\n",
                    "name": "stdout"
                }
            ]
        }
    ],
    "metadata": {
        "kernelspec": {
            "name": "python3",
            "display_name": "Python 3.9",
            "language": "python"
        },
        "language_info": {
            "name": "python",
            "version": "3.9.13",
            "mimetype": "text/x-python",
            "codemirror_mode": {
                "name": "ipython",
                "version": 3
            },
            "pygments_lexer": "ipython3",
            "nbconvert_exporter": "python",
            "file_extension": ".py"
        }
    },
    "nbformat": 4,
    "nbformat_minor": 1
}